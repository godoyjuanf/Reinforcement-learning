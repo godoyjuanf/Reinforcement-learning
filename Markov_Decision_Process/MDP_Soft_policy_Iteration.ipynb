{
 "cells": [
  {
   "cell_type": "markdown",
   "metadata": {},
   "source": [
    "## Reinforcement learning: Problem set 3 - soft policy iteration\n",
    "\n",
    "### Juan Felipe Godoy"
   ]
  },
  {
   "cell_type": "markdown",
   "metadata": {},
   "source": [
    "In this problem set I will implement the Soft Policy iteration in the MDP problem we have been working on. "
   ]
  },
  {
   "cell_type": "code",
   "execution_count": 74,
   "metadata": {},
   "outputs": [],
   "source": [
    "# Initial set up\n",
    "import numpy as np\n",
    "import matplotlib.pyplot as plt\n",
    "import timeit\n",
    "from tqdm import tqdm\n",
    "import pandas as pd\n",
    "import seaborn as sns\n",
    "import random"
   ]
  },
  {
   "cell_type": "code",
   "execution_count": 75,
   "metadata": {},
   "outputs": [],
   "source": [
    "# Properties of the MDP\n",
    "N = 100 # Number of states\n",
    "q_low = 0.51 #probability of action_low\n",
    "q_high = 0.6 #probability of action_high\n",
    "c_low = 0 #cost of action low\n",
    "c_high = 0.01 #cost of action high\n",
    "p = 0.5 #arrival rate\n",
    "gamma=0.9 # discount factor"
   ]
  },
  {
   "cell_type": "code",
   "execution_count": 76,
   "metadata": {},
   "outputs": [
    {
     "name": "stdout",
     "output_type": "stream",
     "text": [
      "[[0.8 0.2 0.  ... 0.  0.  0. ]\n",
      " [0.3 0.5 0.2 ... 0.  0.  0. ]\n",
      " [0.  0.3 0.5 ... 0.  0.  0. ]\n",
      " ...\n",
      " [0.  0.  0.  ... 0.5 0.2 0. ]\n",
      " [0.  0.  0.  ... 0.3 0.5 0.2]\n",
      " [0.  0.  0.  ... 0.  0.3 0.7]]\n"
     ]
    }
   ],
   "source": [
    "# Action high\n",
    "\n",
    "m_high = np.zeros(shape=(N,N))\n",
    "np.fill_diagonal(m_high,(p*q_high)+(1-p)*(1-q_high))\n",
    "\n",
    "# right\n",
    "for i in range(N-1):\n",
    "    if i != N-1:\n",
    "        m_high[i][i+1]=p*(1-q_high)\n",
    "    if i == 0:\n",
    "        m_high[i][i+1]=0.2\n",
    "        m_high[i][i]=0.8\n",
    "\n",
    "# Left\n",
    "for i in range(N):\n",
    "    if i != 0:\n",
    "        m_high[i][i-1]=(1-p)*(q_high)\n",
    "    if i == N-1:\n",
    "        m_high[i][i-1]=0.3\n",
    "        m_high[i][i]=0.7\n",
    "\n",
    "print(m_high)"
   ]
  },
  {
   "cell_type": "code",
   "execution_count": 77,
   "metadata": {},
   "outputs": [
    {
     "name": "stdout",
     "output_type": "stream",
     "text": [
      "[[0.755 0.245 0.    ... 0.    0.    0.   ]\n",
      " [0.255 0.5   0.245 ... 0.    0.    0.   ]\n",
      " [0.    0.255 0.5   ... 0.    0.    0.   ]\n",
      " ...\n",
      " [0.    0.    0.    ... 0.5   0.245 0.   ]\n",
      " [0.    0.    0.    ... 0.255 0.5   0.245]\n",
      " [0.    0.    0.    ... 0.    0.255 0.745]]\n"
     ]
    }
   ],
   "source": [
    "# Action low         \n",
    "m_low = np.zeros(shape=(N,N))\n",
    "np.fill_diagonal(m_low,(p*q_low)+(1-p)*(1-q_low))\n",
    "\n",
    "# right\n",
    "for i in range(N-1):\n",
    "    if i != N-1:\n",
    "        m_low[i][i+1]=p*(1-q_low)\n",
    "    if i == 0:\n",
    "        m_low[i][i+1]=0.245\n",
    "        m_low[i][i]=0.755\n",
    "# Left\n",
    "for i in range(N):\n",
    "    if i != 0:\n",
    "        m_low[i][i-1]=(1-p)*(q_low)\n",
    "    if i ==N-1:\n",
    "        m_low[i][i-1]=0.255\n",
    "        m_low[i][i]=0.745\n",
    "print(m_low)"
   ]
  },
  {
   "cell_type": "code",
   "execution_count": 78,
   "metadata": {},
   "outputs": [],
   "source": [
    "# Reward function\n",
    "def reward (q,x):    \n",
    "    if q == q_low:\n",
    "        r = -(x/N)**2 -c_low\n",
    "    if  q == q_high:\n",
    "        r = -(x/N)**2 -c_high   \n",
    "    return r\n",
    "\n",
    "def soft_reward (q,x):    \n",
    "    r_1 = -(x/N)**2 - c_low\n",
    "    r_2 = -(x/N)**2 - c_high\n",
    "    r = q[0]*r_1 + q[1]*r_2\n",
    "    return r"
   ]
  },
  {
   "cell_type": "markdown",
   "metadata": {},
   "source": [
    "Above I included a new reward function that outputs the reward based on the stochastic nature of the problem. With probability q takes the calculates the reward of the action low and w.p. 1 -q the reward of the other action."
   ]
  },
  {
   "cell_type": "code",
   "execution_count": 79,
   "metadata": {},
   "outputs": [],
   "source": [
    "# Fine feature map:\n",
    "def fine_feature (N,x):\n",
    "    return np.eye(N)[x]\n",
    "\n",
    "# Coarse feature map\n",
    "def coarse_feature(N,x):\n",
    "    final_vector = []\n",
    "    for i in range(1,int(N/5)+1):\n",
    "        lower_bound = 5*(i-1)\n",
    "        upper_bound =5*i-1\n",
    "        if lower_bound <= x <= upper_bound:\n",
    "            final_vector.append(1)\n",
    "        else:\n",
    "            final_vector.append(0)\n",
    "    return np.array(final_vector)\n",
    "\n",
    "\n",
    "# Piecewise linear feature\n",
    "def piecewise_feature(N,x):\n",
    "    v1 = coarse_feature(N,x)\n",
    "    v2 = coarse_feature(N,x)\n",
    "    v3 = []\n",
    "    for i in range(1,int(N/5)+1):\n",
    "        v3.append((x-5*(i-1))/5)\n",
    "    final_vector=np.multiply(v3,v2)\n",
    "    return np.append(v1,final_vector) "
   ]
  },
  {
   "cell_type": "code",
   "execution_count": 80,
   "metadata": {},
   "outputs": [],
   "source": [
    "# Utilities\n",
    "\n",
    "def feature_maps(maps,N,x):\n",
    "    if maps == \"fine\":\n",
    "        phi = fine_feature (N,x)\n",
    "    elif maps == 'coarse':\n",
    "        phi = coarse_feature(N,x)\n",
    "    elif maps == 'piece':\n",
    "        phi = piecewise_feature(N,x)\n",
    "    return phi\n",
    "\n",
    "def theta_vector(maps,N):\n",
    "    if maps == \"fine\":\n",
    "        theta = np.zeros(N) \n",
    "    elif maps == \"coarse\":\n",
    "        theta = np.zeros(int(N/5))\n",
    "    elif maps == \"piece\":\n",
    "        theta = np.zeros(2*int(N/5))\n",
    "    return theta  \n",
    "\n",
    "\n",
    "def translate_policy(policy):\n",
    "    return ['lazy' if i[0]==1 else 'aggressive' for i in policy]\n",
    "\n",
    "def reverse_policy(policy):\n",
    "    return[0 if i=='lazy' else 1 for i in policy]\n",
    "\n",
    "def translate_policy_servicerate(policy):\n",
    "    return [0.51 if i == 'lazy' else 0.60 for i in policy]\n"
   ]
  },
  {
   "cell_type": "markdown",
   "metadata": {},
   "source": [
    "Now I define the function defined as soft_LSTD which in comparison of the previous LSTD (Homework 2) recieves the uniform policy $\\pi_{1}(a/X)=1/|A|$.\n"
   ]
  },
  {
   "cell_type": "code",
   "execution_count": 81,
   "metadata": {},
   "outputs": [],
   "source": [
    "# Soft LSTD\n",
    "\n",
    "def soft_LSTD(N,max_iter,initial_state,maps,gamma,policy,policy_vector:None,m_low,m_high,q_low,q_high):\n",
    "    value_vector = np.zeros(N)\n",
    "    theta = theta_vector(maps,N)\n",
    "    value = np.zeros(N)\n",
    "    s = initial_state \n",
    "\n",
    "    \n",
    "    # Define matrix by policy\n",
    "    if policy == 'lazy':\n",
    "        matrix = m_low\n",
    "    elif policy == 'aggressive':\n",
    "        matrix = np.vstack([m_low[0:50,:],m_high[50:N,:]])\n",
    "\n",
    "   # New option of policy: Uniform\n",
    "   # Build the matrix with the transition probabilities based on the random selction.     \n",
    "    elif policy == 'uniform':\n",
    "        matrix = np.zeros((N,N))\n",
    "\n",
    "        for pi,ni in zip(policy_vector,list(range(N))):  \n",
    "           \n",
    "            row = np.multiply(m_low[ni,:],pi[0]) + np.multiply(m_high[ni,:],(pi[1]))\n",
    "            \n",
    "            matrix[ni,:] = row\n",
    "         \n",
    "             \n",
    "    elif policy =='optimal':\n",
    "        matrix = np.zeros((N,N))\n",
    "        for pi,ni in zip(policy_vector,list(range(N))):\n",
    "            if pi == 'lazy':\n",
    "                row = m_low[ni,:]\n",
    "            elif pi == 'aggressive':\n",
    "                row = m_high[ni,:]\n",
    "            matrix[ni,:] = row\n",
    "\n",
    "\n",
    "    A_B_matrix = 0\n",
    "    b = 0\n",
    "    total_reward = 0\n",
    "    # Iteration\n",
    "    for t in range(max_iter):\n",
    "        # reward vector\n",
    "        reward_vector = []\n",
    "        if policy == 'lazy':\n",
    "            q=q_low\n",
    "            \n",
    "            for x in range(0,N):\n",
    "                reward_vector.append(reward(q,x))\n",
    "        \n",
    "        elif policy == 'aggressive':\n",
    "            for x in range(0,N):\n",
    "                if x < 50:\n",
    "                    q=q_low\n",
    "                else:\n",
    "                    q=q_high\n",
    "                reward_vector.append(reward(q,x))\n",
    "\n",
    "        elif policy =='optimal':\n",
    "            for pi,ni in zip(policy_vector,list(range(N))):\n",
    "                if pi == 'lazy':\n",
    "                    q=q_low\n",
    "                elif pi == 'aggressive':\n",
    "                    q=q_high\n",
    "                reward_vector.append(reward(q,ni))\n",
    "        # Calculate the reward of the policy in each iteration\n",
    "        elif policy == 'uniform':\n",
    "            for pi,ni in zip(policy_vector,list(range(N))):\n",
    "                reward_vector.append(soft_reward(pi,ni))\n",
    "\n",
    "\n",
    "        s_pr = np.random.choice(list(range(0,100)), p=list(matrix[s]))\n",
    "        mapping_x = np.matrix(feature_maps(maps,N,s))\n",
    "        mapping_next = np.matrix(feature_maps(maps,N,s_pr))\n",
    "        \n",
    "        A_B_matrix += mapping_x.T*(mapping_x - gamma*mapping_next)\n",
    "        b +=reward_vector[s]*mapping_x\n",
    "        total_reward += reward_vector[s]\n",
    "        s = s_pr\n",
    "\n",
    "    A_B_matrix = np.linalg.pinv(A_B_matrix)\n",
    "    theta = b*A_B_matrix    \n",
    "\n",
    "    \n",
    "    for j in range (N):\n",
    "        value[j] = np.dot(theta, feature_maps(maps,N,j))\n",
    "        \n",
    "    return total_reward,s,value_vector  "
   ]
  },
  {
   "cell_type": "markdown",
   "metadata": {},
   "source": [
    "In the following cell I introduce one of the main changes compared to the previous homework. \n",
    "Instead of improving the policy by selecting the action that maximizes the $\\hat{Q}_k (a/x)$ we update the policy following the formula suggested in the problem."
   ]
  },
  {
   "cell_type": "code",
   "execution_count": 82,
   "metadata": {},
   "outputs": [],
   "source": [
    "# Defining the q function : Policy improvement\n",
    "def q_function(values,gamma,eta,optimal_policy):\n",
    "    for x in range(N):\n",
    "        values_list = np.zeros(2)\n",
    "        for q,m,n,pi in zip([q_low,q_high],[m_low,m_high],[0,1],['lazy','aggressive']):\n",
    "            values[n] = reward(q,x) + 0.5*gamma*m[x,:].dot(values)\n",
    "        # Policy update        \n",
    "        optimal_policy[x,0]= optimal_policy[x,0]*np.exp(eta*values[0])/(optimal_policy[x,0]*np.exp(eta*values[0]) + optimal_policy[x,1]*np.exp(eta * values[1]))\n",
    "        optimal_policy[x,1] = 1-optimal_policy[x,0]\n",
    "    return optimal_policy"
   ]
  },
  {
   "cell_type": "markdown",
   "metadata": {},
   "source": [
    "### Soft policy evaluation"
   ]
  },
  {
   "cell_type": "code",
   "execution_count": 86,
   "metadata": {},
   "outputs": [
    {
     "name": "stderr",
     "output_type": "stream",
     "text": [
      "100%|██████████| 100/100 [06:18<00:00,  3.78s/it]\n",
      "100%|██████████| 100/100 [05:29<00:00,  3.29s/it]\n",
      "100%|██████████| 100/100 [05:43<00:00,  3.43s/it]\n",
      "100%|██████████| 100/100 [05:31<00:00,  3.32s/it]\n",
      "100%|██████████| 100/100 [05:34<00:00,  3.35s/it]\n",
      "100%|██████████| 100/100 [05:07<00:00,  3.07s/it]\n",
      "100%|██████████| 100/100 [05:07<00:00,  3.08s/it]\n",
      "100%|██████████| 100/100 [05:26<00:00,  3.27s/it]\n",
      "100%|██████████| 100/100 [05:18<00:00,  3.19s/it]\n",
      "100%|██████████| 100/100 [05:18<00:00,  3.18s/it]\n",
      "100%|██████████| 10/10 [54:55<00:00, 329.59s/it]\n"
     ]
    }
   ],
   "source": [
    "result = pd.DataFrame(columns=['mapping','policy','eta','values','final_state','total_reward'])\n",
    "mapping = 'piece'\n",
    "policy = 'uniform'\n",
    "K = 100\n",
    "s_1 = 99\n",
    "etas = np.logspace(-2,2, num = 10)\n",
    "\n",
    "for eta in tqdm(etas):\n",
    "    policy_updated = np.zeros((100,2)) + 0.5\n",
    "    reward_value = 0\n",
    "    for k in tqdm(range(K)):\n",
    "        total_reward_1,s_1,value_vector_1 = soft_LSTD(max_iter=10000,N=100,initial_state=s_1,maps=mapping,gamma=0.9,policy=policy,policy_vector = policy_updated, m_low=m_low,m_high=m_high,q_high=q_high,q_low=q_low)\n",
    "        reward_value += total_reward_1\n",
    "        policy_updated = q_function(value_vector_1,gamma,eta,policy_updated)\n",
    "        \n",
    "    result = result.append({'mapping':mapping,'policy':policy,'eta':eta,'values':value_vector_1,'final_state':s_1,'total_reward':reward_value}, ignore_index=True)"
   ]
  },
  {
   "cell_type": "code",
   "execution_count": 91,
   "metadata": {},
   "outputs": [
    {
     "data": {
      "image/png": "[encoded data removed]",
      "text/plain": [
       "<Figure size 432x288 with 1 Axes>"
      ]
     },
     "metadata": {
      "needs_background": "light"
     },
     "output_type": "display_data"
    }
   ],
   "source": [
    "# Plot\n",
    "fig, ax = plt.subplots()\n",
    "plt.title(' Change of total reward vs. eta ')\n",
    "plt.xlabel('Eta')\n",
    "plt.ylabel('total reward')\n",
    "ax.plot(result['eta'], result['total_reward'],color = 'g')\n",
    "ax.set_xscale(\"log\")\n",
    "plt.show()"
   ]
  },
  {
   "cell_type": "markdown",
   "metadata": {},
   "source": [
    "What we see from the figure above is that, on average, the total reward decreases as the $\\eta$ increases. However, we can also notice that for relatively small values for the $\\eta$, the total reward is constant and at a tipping point, it starts to decrease. \n",
    "\n",
    "This behavior supports the theoretical results we saw in class, suggesting that selecting values for  $\\eta$ to low or high will result in extremely different scenarios. For our particular case we can conclude that the values of $\\eta$ in the range of $10^{-2} and 10^{0}$ yield better results.  \n",
    "\n",
    "Finally, we can also expect that results in the scenario with the soft_policy are better than those compared to the hard policy."
   ]
  }
 ],
 "metadata": {
  "interpreter": {
   "hash": "e06ff7da33dc9620448857a90ad8b5f428f0d573d205a934d2841c8aee45ea32"
  },
  "kernelspec": {
   "display_name": "Python 3.9.7 ('base')",
   "language": "python",
   "name": "python3"
  },
  "language_info": {
   "codemirror_mode": {
    "name": "ipython",
    "version": 3
   },
   "file_extension": ".py",
   "mimetype": "text/x-python",
   "name": "python",
   "nbconvert_exporter": "python",
   "pygments_lexer": "ipython3",
   "version": "3.9.7"
  },
  "orig_nbformat": 4
 },
 "nbformat": 4,
 "nbformat_minor": 2
}
