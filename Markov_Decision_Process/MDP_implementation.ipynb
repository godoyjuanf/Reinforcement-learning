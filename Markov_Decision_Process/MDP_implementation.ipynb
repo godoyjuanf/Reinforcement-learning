{
 "cells": [
  {
   "cell_type": "markdown",
   "metadata": {},
   "source": [
    "## Reinforcement Learning: Homework 1\n",
    "### Juan Felipe Godoy"
   ]
  },
  {
   "cell_type": "markdown",
   "metadata": {},
   "source": [
    "First of all I am going to define the elements of the MDP: action set, state set and transition function."
   ]
  },
  {
   "cell_type": "code",
   "execution_count": 1,
   "metadata": {},
   "outputs": [],
   "source": [
    "# Initial set up\n",
    "import numpy as np\n",
    "import matplotlib.pyplot as plt\n",
    "import timeit"
   ]
  },
  {
   "cell_type": "code",
   "execution_count": 2,
   "metadata": {},
   "outputs": [],
   "source": [
    "# Properties of the MDP\n",
    "N = 100 # Number of states\n",
    "q_low = 0.51 #probability of action_low\n",
    "q_high = 0.6 #probability of action_high\n",
    "c_low = 0 #cost of action low\n",
    "c_high = 0.01 #cost of action high\n",
    "p = 0.5 #arrival rate\n",
    "gamma=0.9 # discount factor\n"
   ]
  },
  {
   "cell_type": "markdown",
   "metadata": {},
   "source": [
    "In the cells below, I define two matrices containing the probability of occurrence for each possible state. I build one matrix for action = low and one for action = high.\n",
    "\n",
    "In both matrices there are two special cases in which the probabilities are different in comparison to the other values:  transition from $x_t = 0$ to $x_{t+1}=-1$ and from $x_t = 99$ to $x_{t+1}=100$. The queue length is updated following a \"trunc\" operator that truncates the interval to $[0, N-1]$, so probabilities in the upper left and lower right corners change. For example, it is impossible to be in state  $x_t = 0$ and take any action that decreases the queue in one person. Then, in both cases I incremented the probability in the diagonal I.e. not changing state. "
   ]
  },
  {
   "cell_type": "code",
   "execution_count": 3,
   "metadata": {},
   "outputs": [
    {
     "name": "stdout",
     "output_type": "stream",
     "text": [
      "[[0.8 0.2 0.  ... 0.  0.  0. ]\n",
      " [0.3 0.5 0.2 ... 0.  0.  0. ]\n",
      " [0.  0.3 0.5 ... 0.  0.  0. ]\n",
      " ...\n",
      " [0.  0.  0.  ... 0.5 0.2 0. ]\n",
      " [0.  0.  0.  ... 0.3 0.5 0.2]\n",
      " [0.  0.  0.  ... 0.  0.3 0.7]]\n"
     ]
    }
   ],
   "source": [
    "# Transition matrices \n",
    "\n",
    "# Action high\n",
    "\n",
    "m_high = np.zeros(shape=(N,N))\n",
    "np.fill_diagonal(m_high,(p*q_high)+(1-p)*(1-q_high))\n",
    "\n",
    "# right\n",
    "for i in range(N-1):\n",
    "    if i != N-1:\n",
    "        m_high[i][i+1]=p*(1-q_high)\n",
    "    if i == 0:\n",
    "        m_high[i][i+1]=0.2\n",
    "        m_high[i][i]=0.8\n",
    "\n",
    "# Left\n",
    "for i in range(N):\n",
    "    if i != 0:\n",
    "        m_high[i][i-1]=(1-p)*(q_high)\n",
    "    if i == N-1:\n",
    "        m_high[i][i-1]=0.3\n",
    "        m_high[i][i]=0.7\n",
    "\n",
    "print(m_high)\n"
   ]
  },
  {
   "cell_type": "code",
   "execution_count": 4,
   "metadata": {},
   "outputs": [
    {
     "name": "stdout",
     "output_type": "stream",
     "text": [
      "[[0.755 0.245 0.    ... 0.    0.    0.   ]\n",
      " [0.255 0.5   0.245 ... 0.    0.    0.   ]\n",
      " [0.    0.255 0.5   ... 0.    0.    0.   ]\n",
      " ...\n",
      " [0.    0.    0.    ... 0.5   0.245 0.   ]\n",
      " [0.    0.    0.    ... 0.255 0.5   0.245]\n",
      " [0.    0.    0.    ... 0.    0.255 0.745]]\n"
     ]
    }
   ],
   "source": [
    "# Action low         \n",
    "m_low = np.zeros(shape=(N,N))\n",
    "np.fill_diagonal(m_low,(p*q_low)+(1-p)*(1-q_low))\n",
    "\n",
    "# right\n",
    "for i in range(N-1):\n",
    "    if i != N-1:\n",
    "        m_low[i][i+1]=p*(1-q_low)\n",
    "    if i == 0:\n",
    "        m_low[i][i+1]=0.245\n",
    "        m_low[i][i]=0.755\n",
    "# Left\n",
    "for i in range(N):\n",
    "    if i != 0:\n",
    "        m_low[i][i-1]=(1-p)*(q_low)\n",
    "    if i ==N-1:\n",
    "        m_low[i][i-1]=0.255\n",
    "        m_low[i][i]=0.745\n",
    "print(m_low)"
   ]
  },
  {
   "cell_type": "code",
   "execution_count": 5,
   "metadata": {},
   "outputs": [],
   "source": [
    "# Reward function\n",
    "def reward (q,x):    \n",
    "    if q == q_low:\n",
    "        r = -(x/N)**2 -c_low\n",
    "    if  q == q_high:\n",
    "        r = -(x/N)**2 -c_high   \n",
    "    return r\n",
    "q = q_low\n",
    "reward_vector = []\n",
    "for x in range(1,N+1):\n",
    "    reward_vector.append(reward(q,x))"
   ]
  },
  {
   "cell_type": "markdown",
   "metadata": {},
   "source": [
    "### Problem 1"
   ]
  },
  {
   "cell_type": "markdown",
   "metadata": {},
   "source": [
    "In this problem I used the Bellman equations to calculate the value functions of both the lazy and aggressive policies. The policies are defined inside the bellman_evaluation function developed in the cell below. "
   ]
  },
  {
   "cell_type": "code",
   "execution_count": 6,
   "metadata": {},
   "outputs": [],
   "source": [
    "# Policy Evaluation: Bellman\n",
    "def bellman_evaluation(policy,N,gamma,q_low,q_high,matrix_low,matrix_high):\n",
    "    reward_vector = []\n",
    "    if policy == 'lazy':\n",
    "        q=q_low\n",
    "        matrix = matrix_low\n",
    "        for x in range(0,N):\n",
    "            reward_vector.append(reward(q,x))\n",
    "    \n",
    "    elif policy == 'aggressive':\n",
    "        matrix = np.vstack([m_low[0:50,:],m_high[50:N,:]])\n",
    "        for x in range(0,N):\n",
    "            \n",
    "            if x < 50:\n",
    "                q=q_low\n",
    "            else:\n",
    "                q=q_high\n",
    "            reward_vector.append(reward(q,x))\n",
    "\n",
    "    return np.linalg.inv(np.eye(N)-gamma*matrix).dot(reward_vector)"
   ]
  },
  {
   "cell_type": "code",
   "execution_count": 7,
   "metadata": {},
   "outputs": [
    {
     "name": "stdout",
     "output_type": "stream",
     "text": [
      "-2.4955161999999986 -6.390115647604779\n"
     ]
    }
   ],
   "source": [
    "Value_lazy=bellman_evaluation('lazy',N,gamma,q_low,q_high,matrix_low=m_low,matrix_high=m_high)\n",
    "print(Value_lazy[50],Value_lazy[80])"
   ]
  },
  {
   "cell_type": "code",
   "execution_count": 18,
   "metadata": {},
   "outputs": [
    {
     "name": "stdout",
     "output_type": "stream",
     "text": [
      "-2.50562610106374 -6.362119989336483\n"
     ]
    }
   ],
   "source": [
    "Value_aggressive=bellman_evaluation('aggressive',N,gamma,q_low,q_high,matrix_low=m_low,matrix_high=m_high)\n",
    "print(Value_aggressive[50],Value_aggressive[80])"
   ]
  },
  {
   "cell_type": "code",
   "execution_count": 9,
   "metadata": {
    "scrolled": true
   },
   "outputs": [
    {
     "data": {
      "text/plain": [
       "<matplotlib.collections.PathCollection at 0x21673ad9ca0>"
      ]
     },
     "execution_count": 9,
     "metadata": {},
     "output_type": "execute_result"
    },
    {
     "data": {
      "image/png": "[encoded data removed]",
      "text/plain": [
       "<Figure size 432x288 with 1 Axes>"
      ]
     },
     "metadata": {
      "needs_background": "light"
     },
     "output_type": "display_data"
    }
   ],
   "source": [
    "#Plot: Difference of value functions between policy lazy and policy aggressive. \n",
    "plt.scatter(list(range(N)),Value_lazy-Value_aggressive)"
   ]
  },
  {
   "cell_type": "code",
   "execution_count": 10,
   "metadata": {},
   "outputs": [
    {
     "name": "stdout",
     "output_type": "stream",
     "text": [
      "Difference in state=50: 0.010109901063741322\n",
      "Difference in state=80: -0.02799565826829653\n"
     ]
    }
   ],
   "source": [
    "#Difference in state 50\n",
    "print('Difference in state=50:' ' '+ str(Value_lazy[50]-Value_aggressive[50]))\n",
    "#Difference in state 80\n",
    "print('Difference in state=80:' ' '+ str(Value_lazy[80]-Value_aggressive[80]))"
   ]
  },
  {
   "cell_type": "markdown",
   "metadata": {},
   "source": [
    "From the previous plot we notice that approximately for the first 50 states, the values of the policies are quite similar. However, when we approach higher states the aggressive policy yields higher values, suggesting that it is a better option. Observe that the results of the difference of the value functions in states 50 and 80 have opposite signs. In the first case, the positive result suggests that the lazy policy is better, while the negative result in state 80 proposes that it is better to follow an aggressive policy."
   ]
  },
  {
   "cell_type": "markdown",
   "metadata": {},
   "source": [
    "### Problem 2"
   ]
  },
  {
   "cell_type": "markdown",
   "metadata": {},
   "source": [
    "#### Value and Policy iteration"
   ]
  },
  {
   "cell_type": "code",
   "execution_count": 17,
   "metadata": {},
   "outputs": [],
   "source": [
    "# Value Iteration\n",
    "\n",
    "A = 2\n",
    "\n",
    "def value_iteration(gamma,V,max_iter):\n",
    "    \n",
    "    for k in range(max_iter):\n",
    "        V_next = -np.inf*np.ones(N)\n",
    "        Q_estimate = np.zeros((N,A))\n",
    "        for x in range(N):\n",
    "            for q,m,n in zip([q_low,q_high],[m_low,m_high],[0,1]):\n",
    "                Q_estimate[x,n] = reward(q,x) + gamma*m[x,:].dot(V)\n",
    "                if Q_estimate[x,n] > V_next[x]:\n",
    "                    V_next[x] = Q_estimate[x,n]\n",
    "        V = V_next\n",
    "    return V"
   ]
  },
  {
   "cell_type": "code",
   "execution_count": 19,
   "metadata": {},
   "outputs": [],
   "source": [
    "# Policy Iteration\n",
    "\n",
    "A = 2\n",
    "def policy_iteration(gamma,V,max_iter):\n",
    "\n",
    "    for k in range(max_iter):\n",
    "        V_next = -np.inf*np.ones(N)\n",
    "        Q_estimate = np.zeros((N,A))\n",
    "        pi_greedy = np.zeros((N,A)) # need to change this for the optimal policy\n",
    "        \n",
    "        for x in range(N):\n",
    "            for q,m,n,pi in zip([q_low,q_high],[m_low,m_high],[0,1],['lazy','aggressive']):\n",
    "                Q_estimate[x,n] = reward(q,x) + gamma*m[x,:].dot(V)\n",
    "                if Q_estimate[x,n] > V_next[x]:\n",
    "                    V_next[x] = Q_estimate[x,n]\n",
    "                    pi_greedy[x,:] = np.zeros(2) # this is also wrong\n",
    "                    pi_greedy[x,n] = 1 # this doesn't make sense \n",
    "\n",
    "        V = bellman_evaluation(pi,N,gamma,q_low,q_high,matrix_low=m_low,matrix_high=m_high)\n",
    "\n",
    "    return V"
   ]
  },
  {
   "cell_type": "markdown",
   "metadata": {},
   "source": [
    "#### Plots"
   ]
  },
  {
   "cell_type": "code",
   "execution_count": 20,
   "metadata": {
    "scrolled": false
   },
   "outputs": [
    {
     "data": {
      "text/plain": [
       "<matplotlib.collections.PathCollection at 0x1e746646400>"
      ]
     },
     "execution_count": 20,
     "metadata": {},
     "output_type": "execute_result"
    },
    {
     "data": {
      "image/png": "[encoded data removed]",
      "text/plain": [
       "<Figure size 432x288 with 1 Axes>"
      ]
     },
     "metadata": {
      "needs_background": "light"
     },
     "output_type": "display_data"
    }
   ],
   "source": [
    "# Value Iteration\n",
    "value_iteration(gamma,np.zeros(N),100)\n",
    "plt.scatter(list(range(100)),value_iteration(gamma,np.zeros(N),100))"
   ]
  },
  {
   "cell_type": "code",
   "execution_count": 21,
   "metadata": {},
   "outputs": [
    {
     "name": "stdout",
     "output_type": "stream",
     "text": [
      "The running time of the value iteration is 0.07624359999999797 seconds\n"
     ]
    }
   ],
   "source": [
    "start_time = timeit.default_timer()\n",
    "value_iteration(gamma,np.zeros(N),100)\n",
    "stop_time = timeit.default_timer()\n",
    "print(\"The running time of the value iteration is %s seconds\" % (stop_time - start_time))"
   ]
  },
  {
   "cell_type": "code",
   "execution_count": 22,
   "metadata": {
    "scrolled": false
   },
   "outputs": [
    {
     "data": {
      "text/plain": [
       "<matplotlib.collections.PathCollection at 0x1e7466a68b0>"
      ]
     },
     "execution_count": 22,
     "metadata": {},
     "output_type": "execute_result"
    },
    {
     "data": {
      "image/png": "[encoded data removed]",
      "text/plain": [
       "<Figure size 432x288 with 1 Axes>"
      ]
     },
     "metadata": {
      "needs_background": "light"
     },
     "output_type": "display_data"
    }
   ],
   "source": [
    "# Policy Iteration\n",
    "policy_iteration(gamma,np.zeros(N),100)\n",
    "plt.scatter(list(range(100)),policy_iteration(gamma,np.zeros(N),100))"
   ]
  },
  {
   "cell_type": "code",
   "execution_count": 23,
   "metadata": {},
   "outputs": [
    {
     "name": "stdout",
     "output_type": "stream",
     "text": [
      "The running time of the policy iteration is 0.09694400000012138 seconds\n"
     ]
    }
   ],
   "source": [
    "start_time = timeit.default_timer()\n",
    "policy_iteration(gamma,np.zeros(N),100)\n",
    "stop_time = timeit.default_timer()\n",
    "print(\"The running time of the policy iteration is %s seconds\" % (stop_time - start_time))"
   ]
  },
  {
   "cell_type": "markdown",
   "metadata": {},
   "source": [
    "We can see that the policy iteration method takes longer than the value iteration method."
   ]
  },
  {
   "cell_type": "code",
   "execution_count": 24,
   "metadata": {},
   "outputs": [
    {
     "data": {
      "text/plain": [
       "[<matplotlib.lines.Line2D at 0x1e746716280>]"
      ]
     },
     "execution_count": 24,
     "metadata": {},
     "output_type": "execute_result"
    },
    {
     "data": {
      "image/png": "[encoded data removed]",
      "text/plain": [
       "<Figure size 432x288 with 1 Axes>"
      ]
     },
     "metadata": {
      "needs_background": "light"
     },
     "output_type": "display_data"
    }
   ],
   "source": [
    "# 10 iterations\n",
    "fig, ax = plt.subplots()\n",
    "ax.plot(value_iteration(gamma,np.zeros(N),10))\n",
    "ax.plot(policy_iteration(gamma,np.zeros(N),10), c = 'red')"
   ]
  },
  {
   "cell_type": "code",
   "execution_count": 25,
   "metadata": {},
   "outputs": [
    {
     "data": {
      "text/plain": [
       "[<matplotlib.lines.Line2D at 0x1e746771af0>]"
      ]
     },
     "execution_count": 25,
     "metadata": {},
     "output_type": "execute_result"
    },
    {
     "data": {
      "image/png": "[encoded data removed]",
      "text/plain": [
       "<Figure size 432x288 with 1 Axes>"
      ]
     },
     "metadata": {
      "needs_background": "light"
     },
     "output_type": "display_data"
    }
   ],
   "source": [
    "# 20 iterations\n",
    "fig, ax = plt.subplots()\n",
    "ax.plot(value_iteration(gamma,np.zeros(N),20))\n",
    "ax.plot(policy_iteration(gamma,np.zeros(N),20), c = 'red')"
   ]
  },
  {
   "cell_type": "code",
   "execution_count": 26,
   "metadata": {},
   "outputs": [
    {
     "data": {
      "text/plain": [
       "[<matplotlib.lines.Line2D at 0x1e7467e3250>]"
      ]
     },
     "execution_count": 26,
     "metadata": {},
     "output_type": "execute_result"
    },
    {
     "data": {
      "image/png": "[encoded data removed]",
      "text/plain": [
       "<Figure size 432x288 with 1 Axes>"
      ]
     },
     "metadata": {
      "needs_background": "light"
     },
     "output_type": "display_data"
    }
   ],
   "source": [
    "# 50 iterations\n",
    "fig, ax = plt.subplots()\n",
    "ax.plot(value_iteration(gamma,np.zeros(N),50))\n",
    "ax.plot(policy_iteration(gamma,np.zeros(N),50), c = 'red')"
   ]
  },
  {
   "cell_type": "code",
   "execution_count": 27,
   "metadata": {
    "scrolled": true
   },
   "outputs": [
    {
     "data": {
      "text/plain": [
       "[<matplotlib.lines.Line2D at 0x1e747812a90>]"
      ]
     },
     "execution_count": 27,
     "metadata": {},
     "output_type": "execute_result"
    },
    {
     "data": {
      "image/png": "[encoded data removed]",
      "text/plain": [
       "<Figure size 432x288 with 1 Axes>"
      ]
     },
     "metadata": {
      "needs_background": "light"
     },
     "output_type": "display_data"
    }
   ],
   "source": [
    "# 100 iterations\n",
    "fig, ax = plt.subplots()\n",
    "ax.plot(value_iteration(gamma,np.zeros(N),100))\n",
    "ax.plot(policy_iteration(gamma,np.zeros(N),100), c = 'red')"
   ]
  },
  {
   "cell_type": "markdown",
   "metadata": {},
   "source": [
    "From the previous plots we can see that the policy iteration method converges faster than the value iteration method. Furthermore, we notice that for a few number of iterations the convergence path differs between the two methods, and while we increse it, the two curves start to \"merge\" in to a similar convergence rate.  "
   ]
  },
  {
   "cell_type": "markdown",
   "metadata": {},
   "source": [
    "#### Optimal value function vs. lazy and aggressive"
   ]
  },
  {
   "cell_type": "code",
   "execution_count": 28,
   "metadata": {},
   "outputs": [
    {
     "data": {
      "text/plain": [
       "<matplotlib.collections.PathCollection at 0x1e747876b50>"
      ]
     },
     "execution_count": 28,
     "metadata": {},
     "output_type": "execute_result"
    },
    {
     "data": {
      "image/png": "[encoded data removed]",
      "text/plain": [
       "<Figure size 432x288 with 1 Axes>"
      ]
     },
     "metadata": {
      "needs_background": "light"
     },
     "output_type": "display_data"
    }
   ],
   "source": [
    "# Optimal vs lazy\n",
    "plt.scatter(list(range(100)),value_iteration(gamma,np.zeros(N),100)-Value_lazy)"
   ]
  },
  {
   "cell_type": "code",
   "execution_count": 29,
   "metadata": {
    "scrolled": true
   },
   "outputs": [
    {
     "data": {
      "text/plain": [
       "<matplotlib.collections.PathCollection at 0x1e7478d9a00>"
      ]
     },
     "execution_count": 29,
     "metadata": {},
     "output_type": "execute_result"
    },
    {
     "data": {
      "image/png": "[encoded data removed]",
      "text/plain": [
       "<Figure size 432x288 with 1 Axes>"
      ]
     },
     "metadata": {
      "needs_background": "light"
     },
     "output_type": "display_data"
    }
   ],
   "source": [
    "# Optimal vs aggresive\n",
    "plt.scatter(list(range(100)),value_iteration(gamma,np.zeros(N),100)-Value_aggressive)"
   ]
  },
  {
   "cell_type": "markdown",
   "metadata": {},
   "source": [
    "The two plots above show that in general, the optimal policy performes better than any of the two policies used in Problem 1. If we look at the graph that depicts the difference $V^* - V^{\\pi_{lazy}}$, it is cllear that starting state 60 the value obtained in from the optimal policy is much better than the one obtained by the lazy policy. \n",
    "\n",
    "If we now focus on the second graph, we see that the optimal policy outperforms the aggressive policy in two states : between the states 45 and 70 and from the state 90 to the end. Interestingly, the difference between the values is close to zero for states previous to 40."
   ]
  },
  {
   "cell_type": "code",
   "execution_count": 33,
   "metadata": {},
   "outputs": [
    {
     "data": {
      "text/plain": [
       "<matplotlib.collections.PathCollection at 0x1e748664700>"
      ]
     },
     "execution_count": 33,
     "metadata": {},
     "output_type": "execute_result"
    },
    {
     "data": {
      "image/png": "[encoded data removed]",
      "text/plain": [
       "<Figure size 432x288 with 1 Axes>"
      ]
     },
     "metadata": {
      "needs_background": "light"
     },
     "output_type": "display_data"
    }
   ],
   "source": [
    "# Optimal vs lazy\n",
    "plt.scatter(list(range(100)),policy_iteration(gamma,np.zeros(N),100)-Value_lazy)"
   ]
  }
 ],
 "metadata": {
  "interpreter": {
   "hash": "e06ff7da33dc9620448857a90ad8b5f428f0d573d205a934d2841c8aee45ea32"
  },
  "kernelspec": {
   "display_name": "Python 3.9.7 ('base')",
   "language": "python",
   "name": "python3"
  },
  "language_info": {
   "codemirror_mode": {
    "name": "ipython",
    "version": 3
   },
   "file_extension": ".py",
   "mimetype": "text/x-python",
   "name": "python",
   "nbconvert_exporter": "python",
   "pygments_lexer": "ipython3",
   "version": "3.9.7"
  }
 },
 "nbformat": 4,
 "nbformat_minor": 2
}
