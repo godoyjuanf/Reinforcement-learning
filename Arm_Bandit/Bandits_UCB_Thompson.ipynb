{
 "cells": [
  {
   "cell_type": "markdown",
   "metadata": {},
   "source": [
    "# Problem set 1: Bandits\n",
    "#### Juan Felipe Godoy"
   ]
  },
  {
   "cell_type": "code",
   "execution_count": 2,
   "metadata": {},
   "outputs": [],
   "source": [
    "# Initial setup: Import packages\n",
    "import numpy as np\n",
    "import seaborn as sns\n",
    "sns.set_style(\"whitegrid\")\n",
    "import matplotlib.pyplot as plt\n",
    "from tqdm import tqdm\n",
    "import pandas as pd\n",
    "seed = 456\n",
    "np.random.seed(456)"
   ]
  },
  {
   "cell_type": "code",
   "execution_count": 3,
   "metadata": {},
   "outputs": [],
   "source": [
    "# Initial setup\n",
    "epsilon = 0.1\n",
    "K = 10\n",
    "rwrd_prob = [0.5 if i==0 else 0.5-epsilon for i in range(K)]\n",
    "alpha =1\n",
    "beta = 1\n",
    "trials = 1000000 \n",
    "simulations = 10\n"
   ]
  },
  {
   "cell_type": "code",
   "execution_count": 4,
   "metadata": {},
   "outputs": [
    {
     "name": "stdout",
     "output_type": "stream",
     "text": [
      "[0.5, 0.4, 0.4, 0.4, 0.4, 0.4, 0.4, 0.4, 0.4, 0.4]\n"
     ]
    }
   ],
   "source": [
    "print(rwrd_prob)"
   ]
  },
  {
   "cell_type": "code",
   "execution_count": 5,
   "metadata": {},
   "outputs": [],
   "source": [
    "# Thompson algorithm\n",
    "def thompson(K, T, rwrd_prob, alpha=1, beta=1):\n",
    "    S = np.zeros(K)  # success\n",
    "    F = np.zeros(K)    # failure\n",
    "    regret = np.zeros(T)\n",
    "    theta = np.zeros(K)\n",
    "\n",
    "    for t in tqdm(range(T)):\n",
    "\n",
    "        for k in range(K):\n",
    "            theta[k] = np.random.beta(S[k]+ alpha, F[k] + beta)\n",
    "        idx = np.argmax(theta)  # keep the max sample from bandist\n",
    "        r = np.random.binomial(1, rwrd_prob[idx]) # draws following binomial dist\n",
    "\n",
    "        if r==1:\n",
    "            S[idx] +=1 # update count sucess\n",
    "        else:\n",
    "            F[idx] += 1\n",
    "        regret[t] = 0.5 - r # update count failure\n",
    "     # return the sums of all regrets   \n",
    "    return np.cumsum(regret)\n",
    "\n",
    "\n"
   ]
  },
  {
   "cell_type": "code",
   "execution_count": 6,
   "metadata": {},
   "outputs": [],
   "source": [
    "# Upper Confidence Bound\n",
    "\n",
    "def ucb(K, T, rwrd_prob):\n",
    "\n",
    "    N = np.ones(K) # total \n",
    "    Q = np.zeros(K)\n",
    "    A = np.zeros(T) # regrets\n",
    "    R = np.random.binomial(1, p = rwrd_prob) # Su\n",
    "\n",
    "    for t in tqdm(range(T)):\n",
    "\n",
    "        delta = np.sqrt(1/(t+1)) # delta for trial t\n",
    "        for k in range(K):\n",
    "            # Update Q\n",
    "            Q[k] = R[k]/N[k] + np.sqrt(2*(R[k]/N[k])*np.log(1/delta)/N[k]) + 2*np.log(1/delta)/N[k]\n",
    "        \n",
    "        idx = np.argmax(Q) # select arm with max Q\n",
    "\n",
    "       \n",
    "        r = np.random.binomial(1, p=rwrd_prob[idx]) # draw following binomial dist\n",
    "        R[idx] += r\n",
    "        N[idx] += 1\n",
    "        A[t] = 0.5 - r\n",
    "    return np.cumsum(A)\n"
   ]
  },
  {
   "cell_type": "code",
   "execution_count": 7,
   "metadata": {},
   "outputs": [],
   "source": [
    "# Function for the Kullback-Leibler divergence\n",
    "def kl(p, q):\n",
    "    return  p*np.log(p/q) + (1-p)*np.log((1-p)/(1-q))"
   ]
  },
  {
   "cell_type": "code",
   "execution_count": 8,
   "metadata": {},
   "outputs": [],
   "source": [
    " #Define asymptotic lower bound\n",
    "def low_bound(K, T, rwrd_prob):\n",
    "    \n",
    "    rwrd_prob[0] = 0.5                                       \n",
    "    p_star = np.max(rwrd_prob)                               \n",
    "    a = 0                                                  \n",
    "    for i in range(K):                                     \n",
    "        kl_i = kl(rwrd_prob[i], p_star) # here we use Kullback-leibler                 \n",
    "        if kl_i == 0:                                      \n",
    "            pass\n",
    "        else:\n",
    "            a = a + (p_star-rwrd_prob[i])/ kl_i  # incerase the number of arms        \n",
    "    lower_bound = np.zeros(T)                              \n",
    "    for t in range(T):                                      \n",
    "        if t == 0:                                         \n",
    "            lower_bound[t] = 0                             \n",
    "        else:\n",
    "            lower_bound[t] = np.log(t)*a                   \n",
    "    return lower_bound -200 "
   ]
  },
  {
   "cell_type": "code",
   "execution_count": 9,
   "metadata": {},
   "outputs": [
    {
     "name": "stderr",
     "output_type": "stream",
     "text": [
      "100%|██████████| 1000000/1000000 [00:30<00:00, 33105.80it/s]\n"
     ]
    },
    {
     "data": {
      "text/plain": [
       "array([5.000e-01, 0.000e+00, 5.000e-01, ..., 8.560e+02, 8.555e+02,\n",
       "       8.560e+02])"
      ]
     },
     "execution_count": 9,
     "metadata": {},
     "output_type": "execute_result"
    }
   ],
   "source": [
    "thompson(K, trials, rwrd_prob)\n"
   ]
  },
  {
   "cell_type": "code",
   "execution_count": 104,
   "metadata": {},
   "outputs": [
    {
     "name": "stdout",
     "output_type": "stream",
     "text": [
      "0\n"
     ]
    },
    {
     "name": "stderr",
     "output_type": "stream",
     "text": [
      "100%|██████████| 1000000/1000000 [00:33<00:00, 29514.84it/s]\n",
      "100%|██████████| 1000000/1000000 [02:13<00:00, 7505.55it/s]\n"
     ]
    },
    {
     "name": "stdout",
     "output_type": "stream",
     "text": [
      "1\n"
     ]
    },
    {
     "name": "stderr",
     "output_type": "stream",
     "text": [
      "100%|██████████| 1000000/1000000 [00:30<00:00, 32301.90it/s]\n",
      "100%|██████████| 1000000/1000000 [02:10<00:00, 7634.37it/s]\n"
     ]
    },
    {
     "name": "stdout",
     "output_type": "stream",
     "text": [
      "2\n"
     ]
    },
    {
     "name": "stderr",
     "output_type": "stream",
     "text": [
      "100%|██████████| 1000000/1000000 [00:29<00:00, 33393.15it/s]\n",
      "100%|██████████| 1000000/1000000 [02:08<00:00, 7757.74it/s]\n"
     ]
    },
    {
     "name": "stdout",
     "output_type": "stream",
     "text": [
      "3\n"
     ]
    },
    {
     "name": "stderr",
     "output_type": "stream",
     "text": [
      "100%|██████████| 1000000/1000000 [00:30<00:00, 33029.04it/s]\n",
      "100%|██████████| 1000000/1000000 [02:08<00:00, 7760.01it/s]\n"
     ]
    },
    {
     "name": "stdout",
     "output_type": "stream",
     "text": [
      "4\n"
     ]
    },
    {
     "name": "stderr",
     "output_type": "stream",
     "text": [
      "100%|██████████| 1000000/1000000 [00:30<00:00, 33198.95it/s]\n",
      "100%|██████████| 1000000/1000000 [02:08<00:00, 7787.64it/s]\n"
     ]
    },
    {
     "name": "stdout",
     "output_type": "stream",
     "text": [
      "5\n"
     ]
    },
    {
     "name": "stderr",
     "output_type": "stream",
     "text": [
      "100%|██████████| 1000000/1000000 [00:29<00:00, 33693.50it/s]\n",
      "100%|██████████| 1000000/1000000 [02:07<00:00, 7863.78it/s]\n"
     ]
    },
    {
     "name": "stdout",
     "output_type": "stream",
     "text": [
      "6\n"
     ]
    },
    {
     "name": "stderr",
     "output_type": "stream",
     "text": [
      "100%|██████████| 1000000/1000000 [00:29<00:00, 33959.31it/s]\n",
      "100%|██████████| 1000000/1000000 [01:56<00:00, 8571.75it/s]\n"
     ]
    },
    {
     "name": "stdout",
     "output_type": "stream",
     "text": [
      "7\n"
     ]
    },
    {
     "name": "stderr",
     "output_type": "stream",
     "text": [
      "100%|██████████| 1000000/1000000 [00:32<00:00, 30598.42it/s]\n",
      "100%|██████████| 1000000/1000000 [01:57<00:00, 8525.61it/s]\n"
     ]
    },
    {
     "name": "stdout",
     "output_type": "stream",
     "text": [
      "8\n"
     ]
    },
    {
     "name": "stderr",
     "output_type": "stream",
     "text": [
      "100%|██████████| 1000000/1000000 [00:28<00:00, 35098.11it/s]\n",
      "100%|██████████| 1000000/1000000 [01:55<00:00, 8695.11it/s]\n"
     ]
    },
    {
     "name": "stdout",
     "output_type": "stream",
     "text": [
      "9\n"
     ]
    },
    {
     "name": "stderr",
     "output_type": "stream",
     "text": [
      "100%|██████████| 1000000/1000000 [00:28<00:00, 35432.84it/s]\n",
      "100%|██████████| 1000000/1000000 [01:55<00:00, 8678.87it/s]\n"
     ]
    }
   ],
   "source": [
    "# run simulations for thompson and ucb\n",
    "thomp = np.zeros(trials)\n",
    "ucbou = np.zeros(trials)\n",
    "for i in range(simulations):\n",
    "    print(i)\n",
    "    thomp = thomp + thompson(K, trials, rwrd_prob)\n",
    "    ucbou = ucbou + ucb(K, trials, rwrd_prob)\n",
    "    \n",
    "thomp = thomp/simulations\n",
    "ucbou = ucbou/simulations\n"
   ]
  },
  {
   "cell_type": "code",
   "execution_count": 105,
   "metadata": {},
   "outputs": [],
   "source": [
    "# Asymptotic lower bound\n",
    "asym = low_bound(K, T=trials, rwrd_prob=rwrd_prob)"
   ]
  },
  {
   "cell_type": "code",
   "execution_count": 106,
   "metadata": {},
   "outputs": [],
   "source": [
    "#Convert to dataframe for plotting\n",
    "asym_df = pd.DataFrame(asym,columns=['value']).reset_index()\n",
    "ucbou_df = pd.DataFrame(ucbou,columns=['value']).reset_index()\n",
    "thomp_df = pd.DataFrame(thomp,columns=['value']).reset_index()"
   ]
  },
  {
   "cell_type": "code",
   "execution_count": 110,
   "metadata": {},
   "outputs": [
    {
     "data": {
      "text/plain": [
       "(0.0, 750.0)"
      ]
     },
     "execution_count": 110,
     "metadata": {},
     "output_type": "execute_result"
    },
    {
     "data": {
      "image/png": "[encoded data removed]",
      "text/plain": [
       "<Figure size 1200x640 with 1 Axes>"
      ]
     },
     "metadata": {},
     "output_type": "display_data"
    }
   ],
   "source": [
    "#plot all algorithm results\n",
    "plt.figure(figsize=(15, 8), dpi=80)\n",
    "sns.lineplot(data = asym_df, x='index', y='value', label='asym');\n",
    "sns.lineplot(data = ucbou_df, x='index', y='value', label='UCB');\n",
    "sns.lineplot(data = thomp_df, x='index', y='value', label='Thompson');\n",
    "plt.xscale('log')\n",
    "plt.xlim([100, 1_000_00])\n",
    "plt.ylim([0,750])"
   ]
  }
 ],
 "metadata": {
  "interpreter": {
   "hash": "e06ff7da33dc9620448857a90ad8b5f428f0d573d205a934d2841c8aee45ea32"
  },
  "kernelspec": {
   "display_name": "Python 3.9.7 ('base')",
   "language": "python",
   "name": "python3"
  },
  "language_info": {
   "codemirror_mode": {
    "name": "ipython",
    "version": 3
   },
   "file_extension": ".py",
   "mimetype": "text/x-python",
   "name": "python",
   "nbconvert_exporter": "python",
   "pygments_lexer": "ipython3",
   "version": "3.9.7"
  },
  "orig_nbformat": 4
 },
 "nbformat": 4,
 "nbformat_minor": 2
}
